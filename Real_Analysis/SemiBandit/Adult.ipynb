{
 "cells": [
  {
   "cell_type": "code",
   "execution_count": 225,
   "metadata": {},
   "outputs": [],
   "source": [
    "import numpy as np\n",
    "import pandas as pd\n",
    "import pickle\n",
    "import sklearn.preprocessing as preprocessing\n",
    "import matplotlib.pyplot as plt\n",
    "import statsmodels.api as sm"
   ]
  },
  {
   "cell_type": "markdown",
   "metadata": {},
   "source": [
    "- age: continuous.\n",
    "- workclass: Private, Self-emp-not-inc, Self-emp-inc, Federal-gov, Local-gov, State-gov, Without-pay, Never-worked.\n",
    "- fnlwgt: continuous.\n",
    "- education: Bachelors, Some-college, 11th, HS-grad, Prof-school, Assoc-acdm, Assoc-voc, 9th, 7th-8th, 12th, Masters, 1st-4th, 10th, Doctorate, 5th-6th, Preschool.\n",
    "- education-num: continuous.\n",
    "- marital-status: Married-civ-spouse, Divorced, Never-married, Separated, Widowed, Married-spouse-absent, Married-AF-spouse.\n",
    "- occupation: Tech-support, Craft-repair, Other-service, Sales, Exec-managerial, Prof-specialty, Handlers-cleaners, Machine-op-inspct, Adm-clerical, Farming-fishing, - Transport-moving, Priv-house-serv, Protective-serv, Armed-Forces.\n",
    "- relationship: Wife, Own-child, Husband, Not-in-family, Other-relative, Unmarried.\n",
    "- race: White, Asian-Pac-Islander, Amer-Indian-Eskimo, Other, Black.\n",
    "- sex: Female, Male.\n",
    "- capital-gain: continuous.\n",
    "- capital-loss: continuous.\n",
    "- hours-per-week: continuous.\n",
    "- native-country: United-States, Cambodia, England, Puerto-Rico, Canada, Germany, Outlying-US(Guam-USVI-etc), India, Japan, Greece, South, China, Cuba, Iran, Honduras, Philippines, Italy, Poland, Jamaica, Vietnam, Mexico, Portugal, Ireland, France, Dominican-Republic, Laos, Ecuador, Taiwan, Haiti, Columbia, Hungary, Guatemala, Nicaragua, Scotland, Thailand, Yugoslavia, El-Salvador, Trinadad&Tobago, Peru, Hong, Holand-Netherlands.\n",
    "- class: >50K, <=50K"
   ]
  },
  {
   "cell_type": "code",
   "execution_count": 226,
   "metadata": {},
   "outputs": [],
   "source": [
    "data = pd.read_csv('adult.data', sep=',', names = [\"age\",\"workclass\",\"fnlwgt\",\"education\",\"education-num\",\"marital-status\",\"occupation\",\n",
    "                                                  \"relationship\",\"race\",\"sex\",\"capital-gain\",\"capital-loss\",\"hours-per-week\",\"native-country\",\"class\"])"
   ]
  },
  {
   "cell_type": "code",
   "execution_count": 227,
   "metadata": {},
   "outputs": [],
   "source": [
    "data = data[['age','sex','hours-per-week','education-num','class']]"
   ]
  },
  {
   "cell_type": "code",
   "execution_count": 228,
   "metadata": {},
   "outputs": [],
   "source": [
    "data['w'] = data['class'].apply(lambda x: .15 if x == ' >50K' else .05)\n",
    "data['sex'] = data.sex.apply(lambda x: 0 if x == ' Female' else 1)\n",
    "data['hours-per-week'] = data['hours-per-week'].apply(lambda x: 1 if x >= 40 else 0)\n",
    "del data['class']"
   ]
  },
  {
   "cell_type": "code",
   "execution_count": 229,
   "metadata": {},
   "outputs": [
    {
     "data": {
      "text/plain": [
       "0.05    24720\n",
       "0.15     7841\n",
       "Name: w, dtype: int64"
      ]
     },
     "execution_count": 229,
     "metadata": {},
     "output_type": "execute_result"
    }
   ],
   "source": [
    "data.w.value_counts()"
   ]
  },
  {
   "cell_type": "code",
   "execution_count": null,
   "metadata": {},
   "outputs": [],
   "source": [
    "# randomly select 3000 observations \n",
    "data2 = data.copy()\n",
    "import random\n",
    "delete = random.sample(list(data2[(data2.w == .05) & (data2.sex == 1) &(data2['hours-per-week']==1) ].index),10061)\n",
    "data2.drop(delete, axis=0, inplace = True)\n",
    "\n",
    "delete = random.sample(list(data2[(data2.w == .15) & (data2.sex == 1) &(data2['hours-per-week']==1) ].index),4000)\n",
    "data2.drop(delete, axis=0, inplace = True)\n",
    "\n",
    "delete = random.sample(list(data2[(data2.w == .05) & (data2.sex == 0) &(data2['hours-per-week']==1) ].index),2500)\n",
    "data2.drop(delete, axis=0, inplace = True)\n",
    "\n",
    "delete = random.sample(list(data2[(data2.w == .05)].index),6000)\n",
    "data2.drop(delete, axis=0, inplace = True)\n",
    "\n",
    "delete = random.sample(list(data2.index),7000)\n",
    "data2.drop(delete, axis=0, inplace = True)\n",
    "\n",
    "data2.w.value_counts()"
   ]
  },
  {
   "cell_type": "code",
   "execution_count": null,
   "metadata": {},
   "outputs": [],
   "source": [
    "#learn gamma from the data \n",
    "def fit_best_sigma(p, X, theta):\n",
    "    \"\"\" suppose we can see all v w/o error and in hindsight, find the best phi, gamma; for debug purpose\"\"\"\n",
    "    import pymc3 as pm\n",
    "    n_init = 2000\n",
    "    n_tune = 200\n",
    "    chains = 1\n",
    "    n_sample = 2000\n",
    "\n",
    "    with pm.Model() as Cascading_Normal_Beta:\n",
    "        gamma_temp = pm.MvNormal('gamma', mu=np.zeros(p), cov=np.identity(p),shape=p)\n",
    "        sigma = pm.InverseGamma('sigma',mu= 1, sigma = 1, shape =1)\n",
    "        #sigma = pm.MvNormal('sigma', mu=np.zeros(1), cov=np.identity(1),shape=1)\n",
    "        mean_theta = pm.math.dot(X, gamma_temp)\n",
    "        theta = pm.Normal('theta', mu = mean_theta, sigma = sigma, shape=L, observed = theta)\n",
    "        trace = pm.sample(n_sample, tune = n_tune, chains = chains\n",
    "                          , cores = 1, progressbar = 1, init='adapt_diag',\n",
    "                          target_accept=0.95, trace = None);\n",
    "    return {'gamma' : np.mean(trace[\"gamma\"], 0), 'sigma' : np.mean(trace[\"sigma\"], 0)}"
   ]
  },
  {
   "cell_type": "code",
   "execution_count": null,
   "metadata": {},
   "outputs": [],
   "source": [
    "## sort the dataset-female first then male\n",
    "data2 = data2.sort_values('sex')\n",
    "X= data2[['age','sex','hours-per-week','education-num']]\n",
    "y = data2.w"
   ]
  },
  {
   "cell_type": "code",
   "execution_count": null,
   "metadata": {},
   "outputs": [],
   "source": [
    "n_female = 1433\n",
    "n_male = 1567"
   ]
  },
  {
   "cell_type": "code",
   "execution_count": null,
   "metadata": {},
   "outputs": [],
   "source": [
    "X= data2[['age','sex','hours-per-week','education-num']]\n",
    "y = data2.w\n",
    "X = np.array(X)\n",
    "y = np.array(y)\n",
    "L = X.shape[0]\n",
    "best_sigma = fit_best_sigma(4, X, y)\n",
    "out={'X':X, 'true_theta':y, 'true_gamma':best_sigma['gamma'],'true_sigma1':best_sigma['sigma'],'n_female':n_female}\n",
    "def dump(file, path):\n",
    "    pickle.dump(file, open(path, \"wb\"))\n",
    "fp = 'Semi_realdata_d_{}_X_transform_{}_with_intercept_{}_L_{}'.format(4, 'origin', 0,3000)\n",
    "dump(out, fp)"
   ]
  },
  {
   "cell_type": "markdown",
   "metadata": {},
   "source": [
    "## Dataset used for real experiment: Semi_realdata_d_4_X_transform_origin_with_intercept_0_L_3000"
   ]
  }
 ],
 "metadata": {
  "kernelspec": {
   "display_name": "Python (3.7.9)",
   "language": "python",
   "name": "py379"
  },
  "language_info": {
   "codemirror_mode": {
    "name": "ipython",
    "version": 3
   },
   "file_extension": ".py",
   "mimetype": "text/x-python",
   "name": "python",
   "nbconvert_exporter": "python",
   "pygments_lexer": "ipython3",
   "version": "3.7.9"
  }
 },
 "nbformat": 4,
 "nbformat_minor": 4
}
