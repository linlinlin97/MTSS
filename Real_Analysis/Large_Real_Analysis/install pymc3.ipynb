{
 "cells": [
  {
   "cell_type": "code",
   "execution_count": 1,
   "id": "1452a77d",
   "metadata": {},
   "outputs": [],
   "source": [
    "import pymc3"
   ]
  },
  {
   "cell_type": "code",
   "execution_count": null,
   "id": "a6287842",
   "metadata": {},
   "outputs": [],
   "source": [
    "#conda install -c conda-forge arviz=0.11.0\n",
    "#!pip install pymc3\n",
    "#pip install xarray==0.20.2"
   ]
  }
 ],
 "metadata": {
  "kernelspec": {
   "display_name": "conda_python3",
   "language": "python",
   "name": "conda_python3"
  },
  "language_info": {
   "codemirror_mode": {
    "name": "ipython",
    "version": 3
   },
   "file_extension": ".py",
   "mimetype": "text/x-python",
   "name": "python",
   "nbconvert_exporter": "python",
   "pygments_lexer": "ipython3",
   "version": "3.8.12"
  }
 },
 "nbformat": 4,
 "nbformat_minor": 5
}
