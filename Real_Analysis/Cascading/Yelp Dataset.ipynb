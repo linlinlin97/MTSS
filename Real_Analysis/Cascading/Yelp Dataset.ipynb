{
 "cells": [
  {
   "cell_type": "code",
   "execution_count": 5,
   "metadata": {},
   "outputs": [],
   "source": [
    "import pickle\n",
    "import pandas as pd\n",
    "import numpy as np\n",
    "import random\n",
    "from sklearn.preprocessing import LabelEncoder\n",
    "from sklearn.metrics import r2_score\n",
    "from scipy.linalg import svd\n",
    "import statsmodels.api as sm\n",
    "import sklearn.preprocessing as preprocessing\n",
    "import pymc3\n",
    "label_encoder = LabelEncoder()\n",
    "def dump(file, path):\n",
    "    pickle.dump(file, open(path, \"wb\"))"
   ]
  },
  {
   "cell_type": "code",
   "execution_count": 2,
   "metadata": {},
   "outputs": [],
   "source": [
    "def logistic(x):\n",
    "    return np.exp(x) / (np.exp(x) + 1)\n",
    "def beta_reparameterize(pi,phi_beta):\n",
    "    \"\"\" mean-precision to standard \"\"\"\n",
    "    return pi / phi_beta, (1 - pi) / phi_beta\n",
    "\n",
    "def logit(x):\n",
    "    return np.log(x/(1-x))\n",
    "\n",
    "\n",
    "def fit_best_gamma_phi(p, X, theta_hat):\n",
    "    \"\"\" suppose we can see all v w/o error and in hindsight, find the best phi, gamma; for debug purpose\"\"\"\n",
    "    import pymc3 as pm\n",
    "    n_init = 2000\n",
    "    n_tune = 200\n",
    "    chains = 1\n",
    "    n_sample = 2000\n",
    "\n",
    "    with pm.Model() as Cascading_Normal_Beta:\n",
    "        gamma_temp = pm.MvNormal('gamma', mu=np.zeros(p), cov=np.identity(p),shape=p)\n",
    "        phi = pm.Beta('phi', alpha= 1, beta=1, shape=1)\n",
    "        alpha_temp = pm.math.dot(X, gamma_temp)\n",
    "        mean_theta = logistic(alpha_temp)\n",
    "        alpha_Beta, beta_Beta = beta_reparameterize(mean_theta, phi)\n",
    "        theta = theta_hat\n",
    "        theta = pm.Beta('theta', alpha= alpha_Beta, beta=beta_Beta, shape=L, observed = theta)\n",
    "        trace = pm.sample(n_sample, tune = n_tune, chains = chains\n",
    "                          , cores = 1, progressbar = 1, init='adapt_diag',\n",
    "                          target_accept=0.95, trace = None);\n",
    "    return {'gamma' : np.mean(trace[\"gamma\"], 0), 'phi' : np.mean(trace[\"phi\"], 0)}"
   ]
  },
  {
   "cell_type": "code",
   "execution_count": null,
   "metadata": {
    "scrolled": true
   },
   "outputs": [],
   "source": [
    "review_origin = pd.read_csv(\"yelp_review.csv\") \n",
    "#review_origin.head()\n",
    "business_origin= pd.read_csv(\"yelp_business.csv\") \n",
    "#business_origin.head()\n",
    "#get the list of business that are restaurants\n",
    "restaurants = business_origin[business_origin.categories.apply(lambda x : 'Restaurants' in x)].business_id\n",
    "#get the subset of reviews for restaurants only\n",
    "reviews = review_origin[review_origin.business_id.isin(restaurants)][['user_id', 'business_id', 'stars',]]\n",
    "#top 3k most reviewd restaurants\n",
    "L=3000\n",
    "selected_business = list(reviews.business_id.value_counts().index[:L])\n",
    "#top 20k most reviewing users\n",
    "U=20000\n",
    "selected_user = list(reviews.user_id.value_counts().index[:U])\n",
    "#Final dataset\n",
    "reviews = reviews[reviews.user_id.isin(selected_user)]\n",
    "reviews = reviews[reviews.business_id.isin(selected_business)]\n",
    "#convert the user_id and business_id into integer numbers\n",
    "reviews['business'] = label_encoder.fit_transform(reviews['business_id'])\n",
    "reviews['user'] = label_encoder.fit_transform(reviews['user_id'])"
   ]
  },
  {
   "cell_type": "code",
   "execution_count": 3,
   "metadata": {},
   "outputs": [],
   "source": [
    "#get the feedback matrix: =1 if reviewed before\n",
    "num_users = U\n",
    "num_business = L\n",
    "W_feedback = np.zeros((num_users, num_business))\n",
    "for i in range(reviews.shape[0]):\n",
    "    W_feedback[reviews.user.iloc[i],reviews.business.iloc[i]] = 1\n",
    "    \n",
    "users = list(range(U))\n",
    "# randomly permuting the users\n",
    "random.shuffle(users)\n",
    "W_feedback = W_feedback[users,:]\n",
    "\n",
    "#divide into train set and test set (half-half)\n",
    "W_train = W_feedback[:U//2,:] #W_train to learn the features\n",
    "W_test = W_feedback[U//2:,:] #W_test to be used in the experiment"
   ]
  },
  {
   "cell_type": "code",
   "execution_count": 5,
   "metadata": {},
   "outputs": [],
   "source": [
    "theta_hat = np.mean(W_test,axis = 0)\n",
    "y = logit(theta_hat)\n",
    "out = {'theta_hat': theta_hat, 'y':y}\n",
    "U, s, VT = svd(W_train)\n",
    "out1={'U': U, 's':s,'VT':VT}"
   ]
  },
  {
   "cell_type": "code",
   "execution_count": 6,
   "metadata": {},
   "outputs": [],
   "source": [
    "with open(\"W_test_relate.txt\", \"wb\") as fp:\n",
    "     pickle.dump(out,fp)\n",
    "with open(\"W_test.txt\", \"wb\") as fp:\n",
    "     pickle.dump(W_test,fp)\n",
    "with open(\"W_train.txt\", \"wb\") as fp:\n",
    "     pickle.dump(W_train,fp)\n",
    "with open(\"USV.txt\", \"wb\") as fp:\n",
    "     pickle.dump(out1,fp)"
   ]
  },
  {
   "cell_type": "code",
   "execution_count": 3,
   "metadata": {},
   "outputs": [],
   "source": [
    "with open(\"s.txt\", \"rb\") as fp:\n",
    "     s = pickle.load(fp)\n",
    "with open(\"VT.txt\", \"rb\") as fp:\n",
    "     VT = pickle.load(fp)\n",
    "with open(\"W_test_relate.txt\", \"rb\") as fp:\n",
    "     out = pickle.load(fp)\n",
    "theta_hat = out['theta_hat']\n",
    "y = out['y']\n",
    "User = 20000\n",
    "L = 3000"
   ]
  },
  {
   "cell_type": "code",
   "execution_count": null,
   "metadata": {},
   "outputs": [],
   "source": [
    "for X_transform in ['standardize']:\n",
    "    for with_intercept in [1]:\n",
    "        for d in [10]:\n",
    "            if X_transform in ['standardize', 'l2_then_standardize'] and with_intercept == 0:\n",
    "                continue\n",
    "            print('d = {}, X_transform = {}, with_intercept = {}'.format(d, X_transform, with_intercept))\n",
    "            X = business_features = np.matmul(VT.T[:,:d],np.diag(s[:d]))\n",
    "            if X_transform == 'standardize':\n",
    "                from sklearn.preprocessing import StandardScaler\n",
    "                scaler = StandardScaler()\n",
    "                scaler.fit(X)\n",
    "                X = scaler.transform(X)\n",
    "            elif X_transform == 'l2_then_standardize':\n",
    "                X = preprocessing.normalize(X, norm='l2') \n",
    "                from sklearn.preprocessing import StandardScaler\n",
    "                scaler = StandardScaler()\n",
    "                scaler.fit(X)\n",
    "                X = scaler.transform(X)\n",
    "            else:\n",
    "                X = preprocessing.normalize(X, norm='l2') \n",
    "\n",
    "            if with_intercept:\n",
    "                X = sm.add_constant(X)\n",
    "            \n",
    "            results = fit_best_gamma_phi(X.shape[1], X, theta_hat)\n",
    "            gamma = results['gamma']\n",
    "            best_phi = results['phi'][0]\n",
    "            y_mean = X.dot(gamma)\n",
    "            theta_mean = logistic(y_mean)\n",
    "\n",
    "            print(\"fitting R2 = {:.2f}\".format(r2_score(y, y_mean)))\n",
    "            print(\"fitting R2 for theta = {:.2f}\".format(r2_score(theta_hat, theta_mean)))\n",
    "\n",
    "            print('max_para = {:.2f}'.format(max(abs(gamma))))\n",
    "            print('best_phi = {:.2f}'.format(best_phi))\n",
    "\n",
    "            out = {\n",
    "                   'W_test_mean': theta_hat,\n",
    "                   'movie_features':X,\n",
    "                   'true_gamma_wrt_test': gamma,\n",
    "                   'true_phi_wrt_test': best_phi,\n",
    "            }\n",
    "\n",
    "            fp = 'Cascading_real_dataset/Cascading_realdata_d_{}_X_transform_{}_with_intercept_{}'.format(d, X_transform, with_intercept)\n",
    "            dump(out, fp)    \n",
    "            print(\"\\n\")\n",
    "            # _binary\n",
    "        print(\"*\" * 100)"
   ]
  },
  {
   "cell_type": "markdown",
   "metadata": {},
   "source": [
    "## Data used for real experiment: \n",
    "- W_test.txt\n",
    "- Cascading_realdata_d_10_X_transform_standardize_with_intercept_1"
   ]
  },
  {
   "cell_type": "code",
   "execution_count": null,
   "metadata": {},
   "outputs": [],
   "source": []
  }
 ],
 "metadata": {
  "kernelspec": {
   "display_name": "Python 3",
   "language": "python",
   "name": "python3"
  },
  "language_info": {
   "codemirror_mode": {
    "name": "ipython",
    "version": 3
   },
   "file_extension": ".py",
   "mimetype": "text/x-python",
   "name": "python",
   "nbconvert_exporter": "python",
   "pygments_lexer": "ipython3",
   "version": "3.7.4"
  },
  "toc": {
   "base_numbering": 1,
   "nav_menu": {},
   "number_sections": true,
   "sideBar": true,
   "skip_h1_title": false,
   "title_cell": "Table of Contents",
   "title_sidebar": "Contents",
   "toc_cell": false,
   "toc_position": {},
   "toc_section_display": true,
   "toc_window_display": false
  }
 },
 "nbformat": 4,
 "nbformat_minor": 5
}
