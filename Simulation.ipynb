{
 "cells": [
  {
   "cell_type": "code",
   "execution_count": 7,
   "id": "a7a106e1",
   "metadata": {},
   "outputs": [
    {
     "data": {
      "text/plain": [
       "<module '_Experiment' from '/home/ec2-user/SageMaker/MTTS_Structured_Bandits/_Experiment.py'>"
      ]
     },
     "execution_count": 7,
     "metadata": {},
     "output_type": "execute_result"
    }
   ],
   "source": [
    "from _util import *\n",
    "os.environ[\"OMP_NUM_THREADS\"] = \"1\"\n",
    "os.environ[\"MKL_NUM_THREADS\"] = \"1\"\n",
    "os.environ[\"OPENBLAS_NUM_THREADS\"] = \"1\"\n",
    "os.environ[\"VECLIB_MAXIMUM_THREADS\"] = \"1\"\n",
    "os.environ[\"NUMEXPR_NUM_THREADS\"] = \"1\"\n",
    "\n",
    "import _Experiment as _Experiment\n",
    "reload(_Experiment)\n",
    "\n",
    "# import shutil\n",
    "# shutil.rmtree(\"res/1121/Cascading\")\n",
    "# shutil.rmtree(\"Fig/1121/Cascading\")"
   ]
  },
  {
   "cell_type": "code",
   "execution_count": 8,
   "id": "7143f55a",
   "metadata": {},
   "outputs": [],
   "source": [
    "pm_core = 30 # memory issue, as we need to jointly solve L tasks [L, L]"
   ]
  },
  {
   "cell_type": "code",
   "execution_count": 9,
   "id": "995c73db",
   "metadata": {},
   "outputs": [],
   "source": [
    "L, T, K, p = 1000, 10000, 3, 5\n",
    "# Rong Jin: L = 1000, T > 10K, K = 10, d = 10\n",
    "update_freq = 500\n",
    "update_freq_linear = 500\n",
    "\n",
    "phi_beta = 1/4\n",
    "n_init = 500\n",
    "with_intercept = True\n",
    "same_reward = True\n",
    "# pm_core = 8\n",
    "pm_core = 32\n",
    "Sigma_x_factor = 1\n",
    "Sigma_gamma_factor = 1"
   ]
  },
  {
   "cell_type": "code",
   "execution_count": null,
   "id": "f503f43b",
   "metadata": {},
   "outputs": [
    {
     "name": "stdout",
     "output_type": "stream",
     "text": [
      "\u001b[31mfixed_gamma0=-2 LB_freq=1 used_agends=all alpha_GLB=1 n_init=500 GLB_freq=500 MTS_freq=500 Sigma_x_factor=1 Sigma_gamma_factor=1 save_prefix=large_scale Bandit_type=Cascading phi_beta=0.02 p=5 K=3 T=10000 L=1000\u001b[0m\n"
     ]
    },
    {
     "name": "stderr",
     "output_type": "stream",
     "text": [
      "oracle: 100%|██████████| 10000/10000 [00:00<00:00, 14345.71it/s]\n",
      "Meta TS (Ours):   0%|          | 0/10000 [00:00<?, ?it/s]"
     ]
    }
   ],
   "source": [
    "for L in [1000]:\n",
    "    for p in [5]: # 3, \n",
    "        for phi_beta in [0.02, 0.05, 0.1, 0.2]: # 1/8, \n",
    "            reload(_Experiment)\n",
    "            run = _Experiment.run_experiment(L = L, T = T, K = K, p = p\n",
    "                                             , phi_beta = phi_beta, Bandit_type = \"Cascading\"\n",
    "                                             #, print_SNR = True\n",
    "                                             #, debug_MTB = False\n",
    "                                             #, only_ratio = False   \n",
    "                                             , with_intercept = with_intercept, same_reward = same_reward, clip = True\n",
    "                                             , save_prefix = \"large_scale\"\n",
    "                                             , Sigma_gamma_factor = Sigma_gamma_factor, Sigma_x_factor = Sigma_x_factor\n",
    "                                             #, misspecification = None\n",
    "                                             , MTS_freq = update_freq\n",
    "                                             , GLB_freq = update_freq_linear\n",
    "    #                                          , alpha_GLB = 0.25\n",
    "                                             , n_init = n_init\n",
    "                                             , fixed_gamma0 = -2\n",
    "    #                                         , used_agends = [\"Oracle TS\", \"Feature-determined TS\", \"Feature-agnostic TS\"]\n",
    "                                            )\n",
    "            r = run.run_multiple_parallel(pm_core)\n",
    "            run.plot_regret(ci = 68, \n",
    "    #                         skip = 1000\n",
    "    #                         , plot_mean = True\n",
    "                            )\n",
    "            run.save(sub_folder = [\"L\", \"T\", \"K\", \"p\"])"
   ]
  },
  {
   "cell_type": "code",
   "execution_count": 10,
   "id": "db10fdac",
   "metadata": {},
   "outputs": [],
   "source": [
    "update_freq = 500\n",
    "update_freq_linear = 500\n",
    "\n",
    "phi_beta = 1/4\n",
    "\n",
    "with_intercept = True\n",
    "seed = 1\n",
    "same_reward = True\n",
    "pm_core = 8"
   ]
  },
  {
   "cell_type": "code",
   "execution_count": null,
   "id": "5e6aa234",
   "metadata": {},
   "outputs": [],
   "source": [
    "L = 3000\n",
    "T = 2000\n",
    "K = 10\n",
    "p = 5\n",
    "sigma_2 = 1\n",
    "with_intercept = True\n",
    "same_reward = True\n",
    "for sigma_1 in [0.01, np.sqrt(0.1), np.sqrt(0.5), 1, np.sqrt(1.5), 3]:  # 0.25, \n",
    "    reload(_Experiment)\n",
    "    run = _Experiment.run_experiment(L = L, T = T, K = K, p = p\n",
    "                                     , Bandit_type = \"SemiBandit\"\n",
    "                                     , sigma_1 = sigma_1\n",
    "                                     , sigma_2 = sigma_2\n",
    "                                     , with_intercept = with_intercept, same_reward = same_reward, clip = True\n",
    "                                     , save_prefix = str(round(sigma_1, 2)) + '_test_extreme'\n",
    "                                     #, debug_MTB = False\n",
    "                                     , Sigma_gamma_factor = 1, Sigma_x_factor = 1\n",
    "                                     #, misspecification = None\n",
    "                                     #, only_ratio = False   \n",
    "                                     , MTS_freq = 50)\n",
    "    r = run.run_multiple_parallel_in_batch(reps = pm_core, batch = 5, parallel = 'parmap')\n",
    "    run.plot_regret(ci = 68\n",
    "                    #, plot_mean = True\n",
    "                    )\n",
    "    run.save(sub_folder = [\"L\", \"T\", \"K\", \"p\"])"
   ]
  },
  {
   "cell_type": "code",
   "execution_count": null,
   "id": "b73f4602",
   "metadata": {},
   "outputs": [],
   "source": [
    "L, T, K, p = 1000, 20000, 5, 5\n",
    "# Rong Jin: L = 1000, T > 10K, K = 10, d = 10\n",
    "update_freq = 500\n",
    "update_freq_linear = 500\n",
    "\n",
    "phi_beta = 1/4\n",
    "\n",
    "with_intercept = True\n",
    "seed = 1\n",
    "same_reward = True\n",
    "pm_core = 8\n",
    "\n",
    "for p in [3, 5, 10]:\n",
    "    for phi_beta in [0.0025, 0.025, 1/4]: # 1/8, \n",
    "        reload(_Experiment)\n",
    "        run = _Experiment.run_experiment(L = L, T = T, K = K, p = p, phi_beta = phi_beta, Bandit_type = \"MNL\"\n",
    "                                         #, mu_gamma = mu_gamma, sigma_gamma = sigma_gamma, X_mu = X_mu, X_sigma = X_sigma\n",
    "                                         #, print_SNR = True\n",
    "                                         #, debug_MTB = False\n",
    "                                         #, only_ratio = False   \n",
    "                                         , with_intercept = with_intercept, same_reward = same_reward, clip = True\n",
    "                                         , save_prefix = None\n",
    "                                         , Sigma_gamma_factor = 1, Sigma_x_factor = 1\n",
    "                                         #, misspecification = None\n",
    "                                         , MTS_freq = update_freq\n",
    "                                         , GLB_freq = update_freq_linear\n",
    "                                         , n_init = 1000)\n",
    "        \n",
    "\n",
    "        r = run.run_multiple_parallel(pm_core)\n",
    "        run.plot_regret(ci = 68\n",
    "                        #, plot_mean = True\n",
    "                        )\n",
    "        run.save(sub_folder = [\"L\", \"T\", \"K\", \"p\"])"
   ]
  },
  {
   "cell_type": "code",
   "execution_count": null,
   "id": "60fa8815",
   "metadata": {},
   "outputs": [],
   "source": []
  }
 ],
 "metadata": {
  "kernelspec": {
   "display_name": "conda_python3",
   "language": "python",
   "name": "conda_python3"
  },
  "language_info": {
   "codemirror_mode": {
    "name": "ipython",
    "version": 3
   },
   "file_extension": ".py",
   "mimetype": "text/x-python",
   "name": "python",
   "nbconvert_exporter": "python",
   "pygments_lexer": "ipython3",
   "version": "3.6.13"
  }
 },
 "nbformat": 4,
 "nbformat_minor": 5
}
